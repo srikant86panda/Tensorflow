{
 "cells": [
  {
   "cell_type": "markdown",
   "metadata": {},
   "source": [
    "## Multi Layer Perceptron:\n",
    "\n",
    "## MNIST Dataset Overview\n",
    "\n",
    "This example is using MNIST handwritten digits. The dataset contains 60,000 examples for training and 10,000 examples for testing. The digits have been size-normalized and centered in a fixed-size image (28x28 pixels) with values from 0 to 1. For simplicity, each image has been flattened and converted to a 1-D numpy array of 784 features (28*28)\n",
    "\n",
    "![MNIST Dataset](http://neuralnetworksanddeeplearning.com/images/mnist_100_digits.png)\n",
    "More info: http://yann.lecun.com/exdb/mnist/"
   ]
  },
  {
   "cell_type": "code",
   "execution_count": 31,
   "metadata": {},
   "outputs": [
    {
     "name": "stdout",
     "output_type": "stream",
     "text": [
      "Extracting C:\\MyData\\publicRepo\\TensorFlow\\MNIST_data\\train-images-idx3-ubyte.gz\n",
      "Extracting C:\\MyData\\publicRepo\\TensorFlow\\MNIST_data\\train-labels-idx1-ubyte.gz\n",
      "Extracting C:\\MyData\\publicRepo\\TensorFlow\\MNIST_data\\t10k-images-idx3-ubyte.gz\n",
      "Extracting C:\\MyData\\publicRepo\\TensorFlow\\MNIST_data\\t10k-labels-idx1-ubyte.gz\n"
     ]
    }
   ],
   "source": [
    "import numpy as np\n",
    "import tensorflow as tf\n",
    "import matplotlib.pyplot as pt\n",
    "%matplotlib inline\n",
    "\n",
    "from tensorflow.contrib.learn.python.learn.datasets import mnist as input_data \n",
    "mnist = input_data.read_data_sets(\"C:\\MyData\\publicRepo\\TensorFlow\\MNIST_data\", one_hot=True)"
   ]
  },
  {
   "cell_type": "code",
   "execution_count": 73,
   "metadata": {},
   "outputs": [],
   "source": [
    "learning_rate = 0.1\n",
    "number_of_epoch = 6\n",
    "batch_size = 128\n",
    "print_result = 100\n",
    "number_of_minibatches = int(mnist.train.num_examples/batch_size)\n",
    "\n",
    "train_accuracy = []\n",
    "test_accuracy = []\n",
    "number_of_input = 28*28\n",
    "number_of_neuron_hidden1 = 512\n",
    "number_of_neuron_hidden2 = 256\n",
    "number_of_classes = 10"
   ]
  },
  {
   "cell_type": "code",
   "execution_count": 74,
   "metadata": {},
   "outputs": [
    {
     "name": "stdout",
     "output_type": "stream",
     "text": [
      "Epoch Number1, MiniBatch Number: 1, Minibatch Loss= 19139.8594, Training Accuracy= 0.172\n",
      "Epoch Number1, MiniBatch Number: 100, Minibatch Loss= 1033.8794, Training Accuracy= 0.844\n",
      "Epoch Number1, MiniBatch Number: 200, Minibatch Loss= 209.4801, Training Accuracy= 0.852\n",
      "Epoch Number1, MiniBatch Number: 300, Minibatch Loss= 82.2784, Training Accuracy= 0.906\n",
      "Epoch Number1, MiniBatch Number: 400, Minibatch Loss= 53.2275, Training Accuracy= 0.898\n",
      "Epoch Number2, MiniBatch Number: 1, Minibatch Loss= 21.1698, Training Accuracy= 0.938\n",
      "Epoch Number2, MiniBatch Number: 100, Minibatch Loss= 41.6401, Training Accuracy= 0.875\n",
      "Epoch Number2, MiniBatch Number: 200, Minibatch Loss= 47.3935, Training Accuracy= 0.852\n",
      "Epoch Number2, MiniBatch Number: 300, Minibatch Loss= 65.4996, Training Accuracy= 0.859\n",
      "Epoch Number2, MiniBatch Number: 400, Minibatch Loss= 79.2852, Training Accuracy= 0.852\n",
      "Epoch Number3, MiniBatch Number: 1, Minibatch Loss= 90.2924, Training Accuracy= 0.883\n",
      "Epoch Number3, MiniBatch Number: 100, Minibatch Loss= 96.2634, Training Accuracy= 0.883\n",
      "Epoch Number3, MiniBatch Number: 200, Minibatch Loss= 92.5053, Training Accuracy= 0.906\n",
      "Epoch Number3, MiniBatch Number: 300, Minibatch Loss= 155.6945, Training Accuracy= 0.844\n",
      "Epoch Number3, MiniBatch Number: 400, Minibatch Loss= 116.5735, Training Accuracy= 0.867\n",
      "Epoch Number4, MiniBatch Number: 1, Minibatch Loss= 114.1630, Training Accuracy= 0.867\n",
      "Epoch Number4, MiniBatch Number: 100, Minibatch Loss= 240.9557, Training Accuracy= 0.859\n",
      "Epoch Number4, MiniBatch Number: 200, Minibatch Loss= 133.8204, Training Accuracy= 0.883\n",
      "Epoch Number4, MiniBatch Number: 300, Minibatch Loss= 126.1053, Training Accuracy= 0.867\n",
      "Epoch Number4, MiniBatch Number: 400, Minibatch Loss= 228.2231, Training Accuracy= 0.836\n",
      "Epoch Number5, MiniBatch Number: 1, Minibatch Loss= 203.5719, Training Accuracy= 0.836\n",
      "Epoch Number5, MiniBatch Number: 100, Minibatch Loss= 189.5708, Training Accuracy= 0.859\n",
      "Epoch Number5, MiniBatch Number: 200, Minibatch Loss= 162.1744, Training Accuracy= 0.859\n",
      "Epoch Number5, MiniBatch Number: 300, Minibatch Loss= 40.2521, Training Accuracy= 0.906\n",
      "Epoch Number5, MiniBatch Number: 400, Minibatch Loss= 148.9405, Training Accuracy= 0.852\n",
      "Epoch Number6, MiniBatch Number: 1, Minibatch Loss= 93.3575, Training Accuracy= 0.914\n",
      "Epoch Number6, MiniBatch Number: 100, Minibatch Loss= 115.3096, Training Accuracy= 0.859\n",
      "Epoch Number6, MiniBatch Number: 200, Minibatch Loss= 46.6571, Training Accuracy= 0.930\n",
      "Epoch Number6, MiniBatch Number: 300, Minibatch Loss= 124.4545, Training Accuracy= 0.844\n",
      "Epoch Number6, MiniBatch Number: 400, Minibatch Loss= 89.2953, Training Accuracy= 0.883\n",
      "Optimization Completed!\n",
      "Training Accuracy: 0.835055\n",
      "Testing Accuracy: 0.8355\n"
     ]
    }
   ],
   "source": [
    "g = tf.Graph()\n",
    "\n",
    "with g.as_default():\n",
    "    \n",
    "    X = tf.placeholder(\"float\", [None, number_of_input])\n",
    "    Y = tf.placeholder(\"float\", [None, number_of_classes])\n",
    "    \n",
    "    with tf.name_scope('coefficients') as scope:\n",
    "        weights = {\n",
    "            'h1': tf.Variable(tf.random_normal([number_of_input, number_of_neuron_hidden1],mean=0.0, stddev=1.0, seed=99)),\n",
    "            'h2': tf.Variable(tf.random_normal([number_of_neuron_hidden1, number_of_neuron_hidden2],mean=0.0, stddev=1.0, seed=99)),\n",
    "            'out': tf.Variable(tf.random_normal([number_of_neuron_hidden2, number_of_classes],mean=0.0, stddev=1.0, seed=99))\n",
    "        }\n",
    "\n",
    "        biases = {\n",
    "            'b1': tf.Variable(tf.random_normal([number_of_neuron_hidden1],mean=0.0, stddev=1.0, seed=99)),\n",
    "            'b2': tf.Variable(tf.random_normal([number_of_neuron_hidden2],mean=0.0, stddev=1.0, seed=99)),\n",
    "            'out': tf.Variable(tf.random_normal([number_of_classes],mean=0.0, stddev=1.0, seed=99))\n",
    "        }\n",
    "        \n",
    "        layer_1 = tf.add(tf.matmul(X, weights['h1']), biases['b1'])\n",
    "        layer_2 = tf.add(tf.matmul(layer_1, weights['h2']), biases['b2'])\n",
    "        Y_pred = tf.matmul(layer_2, weights['out']) + biases['out']\n",
    "        \n",
    "    with tf.name_scope('cost') as scope:\n",
    "        cost_function = tf.reduce_mean(tf.nn.softmax_cross_entropy_with_logits(logits=Y_pred, labels=Y))\n",
    "\n",
    "    with tf.name_scope('optimizer') as scope:\n",
    "        optimizer = tf.train.AdamOptimizer(learning_rate=learning_rate).minimize(cost_function)\n",
    "    \n",
    "    with tf.name_scope('accuracy'):\n",
    "        correct_pred = tf.equal(tf.argmax(Y_pred, 1), tf.argmax(Y, 1))\n",
    "        accuracy = tf.reduce_mean(tf.cast(correct_pred, tf.float32))\n",
    "    \n",
    "    init = tf.global_variables_initializer()\n",
    "\n",
    "    with tf.Session() as sess:\n",
    "        sess.run(init)\n",
    "        for epoch_humber in range(1, number_of_epoch+1):\n",
    "            for mini_batch_number in range(1, number_of_minibatches+1):\n",
    "                X_batch, Y_batch = mnist.train.next_batch(batch_size)\n",
    "                sess.run(optimizer, feed_dict={X: X_batch, Y: Y_batch})\n",
    "                if mini_batch_number % print_result == 0 or mini_batch_number == 1:\n",
    "                    cost, acc = sess.run([cost_function, accuracy], feed_dict={X: X_batch, Y: Y_batch})\n",
    "                    print(\"Epoch Number\" + str(epoch_humber) + \", MiniBatch Number: \" + str(mini_batch_number) + \", Minibatch Loss= \" + \\\n",
    "                      \"{:.4f}\".format(cost) + \", Training Accuracy= \" + \"{:.3f}\".format(acc))\n",
    "            train_accuracy.append(sess.run(accuracy, feed_dict={X: mnist.train.images, Y: mnist.train.labels}))\n",
    "            test_accuracy.append(sess.run(accuracy, feed_dict={X: mnist.test.images, Y: mnist.test.labels}))\n",
    "        \n",
    "        print(\"Optimization Completed!\")\n",
    "        print(\"Training Accuracy:\", sess.run(accuracy, feed_dict={X: mnist.train.images, Y: mnist.train.labels}))\n",
    "        print(\"Testing Accuracy:\", sess.run(accuracy, feed_dict={X: mnist.test.images, Y: mnist.test.labels}))        "
   ]
  },
  {
   "cell_type": "code",
   "execution_count": 76,
   "metadata": {},
   "outputs": [
    {
     "data": {
      "image/png": "[encoded data removed]",
      "text/plain": [
       "<matplotlib.figure.Figure at 0x15540eb8>"
      ]
     },
     "metadata": {},
     "output_type": "display_data"
    }
   ],
   "source": [
    "pt.plot(list(range(1,number_of_epoch+1)),train_accuracy,'b',label= \"Training accuracy\")\n",
    "pt.plot(list(range(1,number_of_epoch+1)),test_accuracy,'g',label= \"Testing accuracy\")\n",
    "pt.title(\"Traing & testing Accuracy vs Number of Echos\")\n",
    "pt.legend()\n",
    "pt.show()"
   ]
  }
 ],
 "metadata": {
  "kernelspec": {
   "display_name": "Python 3",
   "language": "python",
   "name": "python3"
  },
  "language_info": {
   "codemirror_mode": {
    "name": "ipython",
    "version": 3
   },
   "file_extension": ".py",
   "mimetype": "text/x-python",
   "name": "python",
   "nbconvert_exporter": "python",
   "pygments_lexer": "ipython3",
   "version": "3.5.3"
  }
 },
 "nbformat": 4,
 "nbformat_minor": 2
}
