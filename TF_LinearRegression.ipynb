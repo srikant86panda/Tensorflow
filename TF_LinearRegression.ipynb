{
 "cells": [
  {
   "cell_type": "markdown",
   "metadata": {},
   "source": [
    "### Linear Regression in Tensorflow"
   ]
  },
  {
   "cell_type": "code",
   "execution_count": 2,
   "metadata": {
    "collapsed": true
   },
   "outputs": [],
   "source": [
    "import tensorflow as tf\n",
    "import numpy as np\n",
    "import matplotlib.pyplot as plt\n",
    "%matplotlib inline"
   ]
  },
  {
   "cell_type": "code",
   "execution_count": 3,
   "metadata": {
    "collapsed": true
   },
   "outputs": [],
   "source": [
    "x_data = np.random.randn(2000,3)\n",
    "w_real = [0.3,0.5,0.1]\n",
    "b_real = -0.2\n",
    "noise = np.random.randn(1,2000)*0.1\n",
    "wxb = (np.matmul(w_real,x_data.T) + b_real).reshape(1,2000) \n",
    "y_data = (np.matmul(w_real,x_data.T) + b_real) + noise"
   ]
  },
  {
   "cell_type": "code",
   "execution_count": 40,
   "metadata": {},
   "outputs": [
    {
     "data": {
      "image/png": "[encoded data removed]",
      "text/plain": [
       "<matplotlib.figure.Figure at 0x19354f28>"
      ]
     },
     "metadata": {},
     "output_type": "display_data"
    }
   ],
   "source": [
    "plt.figure(figsize=(6,4))\n",
    "plt.plot(wxb, y_data, 'ro')\n",
    "plt.show()"
   ]
  },
  {
   "cell_type": "code",
   "execution_count": 44,
   "metadata": {},
   "outputs": [
    {
     "name": "stdout",
     "output_type": "stream",
     "text": [
      "Step#  0 , Cost: 0.260934 , Weights:  [[ 0.05888444  0.09943926  0.01930491]] , Biases:  -0.0421727\n",
      "Step#  5 , Cost: 0.0376447 , Weights:  [[ 0.2194259   0.36862648  0.07359841]] , Biases:  -0.151478\n",
      "Step#  10 , Cost: 0.0131941 , Weights:  [[ 0.27352527  0.45801136  0.09289785]] , Biases:  -0.184654\n",
      "Optimization steps complete at #  15 , Cost: 0.0106911 , Weights:  [[ 0.28953058  0.48406631  0.098852  ]] , Biases:  -0.193486\n",
      "(3, 2000)\n"
     ]
    },
    {
     "data": {
      "image/png": "[encoded data removed]",
      "text/plain": [
       "<matplotlib.figure.Figure at 0x202ecb70>"
      ]
     },
     "metadata": {},
     "output_type": "display_data"
    }
   ],
   "source": [
    "NUM_STEPS = 15\n",
    "g = tf.Graph()\n",
    "with g.as_default():\n",
    "    x = tf.placeholder(tf.float32,shape=[None,3])\n",
    "    y_true = tf.placeholder(tf.float32,shape=None)\n",
    "    learning_rate = tf.placeholder(tf.float32,shape=None)\n",
    "    with tf.name_scope('coefficients') as scope:\n",
    "        w = tf.Variable([[0,0,0]],dtype=tf.float32,name='weights')\n",
    "        b = tf.Variable(0,dtype=tf.float32,name='bias')\n",
    "        y_pred = tf.matmul(w,tf.transpose(x)) + b\n",
    "\n",
    "    with tf.name_scope('loss') as scope:\n",
    "        loss = tf.reduce_mean(tf.square(y_true-y_pred))\n",
    "        \n",
    "    with tf.name_scope('train') as scope:\n",
    "        optimizer = tf.train.GradientDescentOptimizer(learning_rate).minimize(loss)\n",
    "\n",
    "    init = tf.global_variables_initializer()\n",
    "    with tf.Session() as sess:\n",
    "        sess.run(init)\n",
    "        for step in range(NUM_STEPS):\n",
    "            sess.run(optimizer,feed_dict={x: x_data, y_true: y_data, learning_rate: 0.1})\n",
    "            if (step % 5 == 0):\n",
    "                c=sess.run(loss,feed_dict={x: x_data, y_true: y_data, learning_rate: 0.1})\n",
    "                print(\"Step# \",step,\", Cost:\",c,\", Weights: \",sess.run(w),\", Biases: \",sess.run(b))\n",
    "        c=sess.run(loss,feed_dict={x: x_data, y_true: y_data})\n",
    "        print(\"Optimization steps complete at # \",NUM_STEPS,\", Cost:\",c,\", Weights: \",sess.run(w),\", Biases: \",sess.run(b))\n",
    "        \n",
    "        print(x_data.T.shape)\n",
    "        plt.plot(wxb, y_data, 'ro')\n",
    "        plt.plot(wxb, np.dot(sess.run(w),x_data.T),'b+')\n",
    "        plt.legend()\n",
    "        plt.show()"
   ]
  }
 ],
 "metadata": {
  "kernelspec": {
   "display_name": "Python 3",
   "language": "python",
   "name": "python3"
  },
  "language_info": {
   "codemirror_mode": {
    "name": "ipython",
    "version": 3
   },
   "file_extension": ".py",
   "mimetype": "text/x-python",
   "name": "python",
   "nbconvert_exporter": "python",
   "pygments_lexer": "ipython3",
   "version": "3.5.3"
  }
 },
 "nbformat": 4,
 "nbformat_minor": 2
}
