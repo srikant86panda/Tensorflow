{
 "cells": [
  {
   "cell_type": "markdown",
   "metadata": {},
   "source": [
    "# k-nearest Neighbour using L2 Distance"
   ]
  },
  {
   "cell_type": "code",
   "execution_count": 69,
   "metadata": {},
   "outputs": [
    {
     "name": "stdout",
     "output_type": "stream",
     "text": [
      "Extracting C:\\MyData\\publicRepo\\TensorFlow\\MNIST_data\\train-images-idx3-ubyte.gz\n",
      "Extracting C:\\MyData\\publicRepo\\TensorFlow\\MNIST_data\\train-labels-idx1-ubyte.gz\n",
      "Extracting C:\\MyData\\publicRepo\\TensorFlow\\MNIST_data\\t10k-images-idx3-ubyte.gz\n",
      "Extracting C:\\MyData\\publicRepo\\TensorFlow\\MNIST_data\\t10k-labels-idx1-ubyte.gz\n"
     ]
    }
   ],
   "source": [
    "import numpy as np\n",
    "import tensorflow as tf\n",
    "\n",
    "from tensorflow.contrib.learn.python.learn.datasets import mnist as input_data \n",
    "mnist = input_data.read_data_sets(\"C:\\MyData\\publicRepo\\TensorFlow\\MNIST_data\", one_hot=True)"
   ]
  },
  {
   "cell_type": "code",
   "execution_count": 70,
   "metadata": {},
   "outputs": [],
   "source": [
    "x_data_train, y_data_train = mnist.train.next_batch(10000) \n",
    "x_data_test, y_data_test = mnist.test.next_batch(100)"
   ]
  },
  {
   "cell_type": "code",
   "execution_count": 71,
   "metadata": {},
   "outputs": [
    {
     "name": "stdout",
     "output_type": "stream",
     "text": [
      "Test 0 Prediction: 7 True Class: 7\n",
      "Test 10 Prediction: 0 True Class: 0\n",
      "Test 21 Prediction: 6 True Class: 6\n",
      "Test 33 Prediction: 4 True Class: 4\n",
      "Test 62 Prediction: 9 True Class: 9\n",
      "Test 85 Prediction: 4 True Class: 4\n",
      "Test 98 Prediction: 6 True Class: 6\n",
      "Accuracy: 7.000000000000001\n"
     ]
    }
   ],
   "source": [
    "g = tf.Graph()\n",
    "\n",
    "with g.as_default():\n",
    "    X = tf.placeholder(tf.float32,shape=[None,784])\n",
    "    X_test = tf.placeholder(tf.float32,shape=[784])\n",
    "    \n",
    "    with tf.name_scope('L1Distance') as scope:\n",
    "        distance = tf.sqrt(tf.reduce_sum(tf.square(tf.add(X, tf.negative(X_test))), reduction_indices=1))\n",
    "    with tf.name_scope('Prediction') as scope:\n",
    "        pred = tf.arg_min(distance, 0)\n",
    "\n",
    "    accuracy = 0\n",
    "    correct_prediction = 0\n",
    "    init = tf.global_variables_initializer()\n",
    "    with tf.Session() as sess:\n",
    "        sess.run(init)\n",
    "        for i in range(len(x_data_test)):\n",
    "            nn_index = sess.run(pred, feed_dict={X: x_data_test, X_test: x_data_test[i, :]})\n",
    "            if np.argmax(y_data_train[nn_index]) == np.argmax(y_data_test[i]):\n",
    "                print(\"Test\", i, \"Prediction:\", np.argmax(y_data_train[nn_index]), \\\n",
    "                \"True Class:\", np.argmax(y_data_test[i]))\n",
    "                correct_prediction += 1\n",
    "        accuracy = (correct_prediction/len(x_data_test))*100\n",
    "        print(\"Accuracy:\", accuracy) "
   ]
  }
 ],
 "metadata": {
  "kernelspec": {
   "display_name": "Python 3",
   "language": "python",
   "name": "python3"
  },
  "language_info": {
   "codemirror_mode": {
    "name": "ipython",
    "version": 3
   },
   "file_extension": ".py",
   "mimetype": "text/x-python",
   "name": "python",
   "nbconvert_exporter": "python",
   "pygments_lexer": "ipython3",
   "version": "3.5.3"
  }
 },
 "nbformat": 4,
 "nbformat_minor": 2
}
